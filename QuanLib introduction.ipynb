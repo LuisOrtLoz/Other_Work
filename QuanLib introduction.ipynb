{
 "cells": [
  {
   "cell_type": "code",
   "execution_count": 1,
   "id": "0e4bedc0",
   "metadata": {},
   "outputs": [],
   "source": [
    "#pip install QuantLib-Python"
   ]
  },
  {
   "cell_type": "markdown",
   "id": "4c8e8038",
   "metadata": {},
   "source": [
    "**The objective of this notebook is to explore the QuantLib python library**\n",
    "Most of the examples come from the documentation, but some examples also come from:\n",
    "http://gouthamanbalaraman.com/blog/quantlib-python-tutorials-with-examples.html"
   ]
  },
  {
   "cell_type": "code",
   "execution_count": 19,
   "id": "4d25d8c6",
   "metadata": {},
   "outputs": [],
   "source": [
    "import QuantLib as ql"
   ]
  },
  {
   "cell_type": "markdown",
   "id": "4889d92b",
   "metadata": {},
   "source": [
    "Exloring the Time sub-module, which contains varios time-related classes. First, the date object."
   ]
  },
  {
   "cell_type": "code",
   "execution_count": 3,
   "id": "41d5f35b",
   "metadata": {},
   "outputs": [
    {
     "name": "stdout",
     "output_type": "stream",
     "text": [
      "October 31st, 2022\n",
      "31\n",
      "10\n",
      "2022\n",
      "False\n",
      "November 1st, 2022\n",
      "October 30th, 2022\n",
      "November 30th, 2022\n",
      "November 7th, 2022\n",
      "October 31st, 2023\n",
      "True\n"
     ]
    }
   ],
   "source": [
    "#Date object \n",
    "date = ql.Date(31, 10, 2022) # 31 October, 2022\n",
    "print(date)\n",
    "\n",
    "day = date.dayOfMonth()\n",
    "print(day)\n",
    "\n",
    "month = date.month()\n",
    "print(month)\n",
    "\n",
    "year = date.year()\n",
    "print(year)\n",
    "\n",
    "print(date.weekday() == ql.Friday)\n",
    "\n",
    "#Artithmetics with dates\n",
    "tomorrow = date + 1  # add a day\n",
    "print(tomorrow)\n",
    "\n",
    "yesterday = date - 1  # subtract a day\n",
    "print(yesterday)\n",
    "\n",
    "next_month = date + ql.Period(1, ql.Months)\n",
    "print(next_month)\n",
    "\n",
    "next_week = date + ql.Period(1, ql.Weeks)\n",
    "print(next_week)\n",
    "\n",
    "next_year = date + ql.Period(1, ql.Years)\n",
    "print(next_year)\n",
    "\n",
    "#Logical operators\n",
    "print(ql.Date(31, 10, 2022) > ql.Date(31, 10, 2021))"
   ]
  },
  {
   "cell_type": "markdown",
   "id": "853b6f3b",
   "metadata": {},
   "source": [
    "Next, the Schedule object, which can be used to construct lists of dates (useful for coupon payments)."
   ]
  },
  {
   "cell_type": "code",
   "execution_count": 4,
   "id": "7f33418a",
   "metadata": {},
   "outputs": [
    {
     "data": {
      "text/plain": [
       "[Date(2,1,2019),\n",
       " Date(1,2,2019),\n",
       " Date(1,3,2019),\n",
       " Date(1,4,2019),\n",
       " Date(1,5,2019),\n",
       " Date(3,6,2019),\n",
       " Date(1,7,2019),\n",
       " Date(1,8,2019),\n",
       " Date(3,9,2019),\n",
       " Date(1,10,2019),\n",
       " Date(1,11,2019),\n",
       " Date(2,12,2019),\n",
       " Date(2,1,2020)]"
      ]
     },
     "execution_count": 4,
     "metadata": {},
     "output_type": "execute_result"
    }
   ],
   "source": [
    "#Example 1\n",
    "start = ql.Date(1, 1, 2019)\n",
    "end = ql.Date(1, 1, 2020)\n",
    "tenor = ql.Period(ql.Monthly)\n",
    "calendar = ql.UnitedStates(ql.UnitedStates.GovernmentBond)\n",
    "\n",
    "schedule = ql.Schedule(start, end, tenor, calendar, ql.Following, ql.Following, ql.DateGeneration.Forward, False)\n",
    "\n",
    "list(schedule)"
   ]
  },
  {
   "cell_type": "code",
   "execution_count": 5,
   "id": "7812b3df",
   "metadata": {},
   "outputs": [
    {
     "data": {
      "text/plain": [
       "[Date(15,6,2020),\n",
       " Date(15,12,2020),\n",
       " Date(15,6,2021),\n",
       " Date(15,12,2021),\n",
       " Date(15,6,2022)]"
      ]
     },
     "execution_count": 5,
     "metadata": {},
     "output_type": "execute_result"
    }
   ],
   "source": [
    "#Example 2\n",
    "effectiveDate = ql.Date(15,6,2020)\n",
    "terminationDate = ql.Date(15,6,2022)\n",
    "frequency = ql.Period('6M')\n",
    "calendar = ql.TARGET()\n",
    "convention = ql.ModifiedFollowing\n",
    "terminationDateConvention = ql.ModifiedFollowing\n",
    "rule = ql.DateGeneration.Backward\n",
    "endOfMonth = False\n",
    "schedule = ql.Schedule(effectiveDate, terminationDate, frequency, calendar, convention, terminationDateConvention, rule, endOfMonth)\n",
    "\n",
    "list(schedule)"
   ]
  },
  {
   "cell_type": "markdown",
   "id": "87ef6f55",
   "metadata": {},
   "source": [
    "Next, looking into the DateGeneration class. The proper valuation of financial assets requires discounting future cash flows from the future, so generating the correct list of dates is crucial."
   ]
  },
  {
   "cell_type": "code",
   "execution_count": 6,
   "id": "5b4df30a",
   "metadata": {},
   "outputs": [
    {
     "name": "stdout",
     "output_type": "stream",
     "text": [
      "Backward [Date(7,5,2020), Date(15,5,2020), Date(15,6,2020), Date(15,7,2020), Date(15,8,2020)]\n",
      "Forward [Date(7,5,2020), Date(7,6,2020), Date(7,7,2020), Date(7,8,2020), Date(15,8,2020)]\n",
      "Zero [Date(7,5,2020), Date(15,8,2020)]\n",
      "ThirdWednesDay [Date(7,5,2020), Date(17,6,2020), Date(15,7,2020), Date(15,8,2020)]\n",
      "Twentieth [Date(7,5,2020), Date(20,5,2020), Date(20,6,2020), Date(20,7,2020), Date(20,8,2020)]\n",
      "TwentiethIMM [Date(7,5,2020), Date(20,6,2020), Date(20,7,2020), Date(20,9,2020)]\n",
      "CDS [Date(20,3,2020), Date(20,6,2020), Date(20,7,2020), Date(20,9,2020)]\n"
     ]
    }
   ],
   "source": [
    "#Example 1\n",
    "start = ql.Date(7,5,2020)\n",
    "end = ql.Date(15,8,2020)\n",
    "\n",
    "rules = {\n",
    "    'Backward': ql.DateGeneration.Backward,\n",
    "    'Forward': ql.DateGeneration.Forward,\n",
    "    'Zero': ql.DateGeneration.Zero,\n",
    "    'ThirdWednesDay': ql.DateGeneration.ThirdWednesday,\n",
    "    'Twentieth': ql.DateGeneration.Twentieth,\n",
    "    'TwentiethIMM': ql.DateGeneration.TwentiethIMM,\n",
    "    'CDS': ql.DateGeneration.CDS\n",
    "\n",
    "}\n",
    "\n",
    "for name, rule in rules.items():\n",
    "    schedule = ql.MakeSchedule(start, end, ql.Period('1m'), rule=rule)\n",
    "    print(name, [dt for dt in schedule])"
   ]
  },
  {
   "cell_type": "markdown",
   "id": "9e7bcc29",
   "metadata": {},
   "source": [
    "Next, looking into the Calendar object. In particular, one can examine custom holidays."
   ]
  },
  {
   "cell_type": "code",
   "execution_count": 7,
   "id": "bfafef7b",
   "metadata": {},
   "outputs": [
    {
     "name": "stdout",
     "output_type": "stream",
     "text": [
      "Is BD : False\n",
      "Is Holiday : True\n",
      "Is Weekend : False\n",
      "Is Last BD : False\n",
      "Last BD : May 31st, 2017\n"
     ]
    }
   ],
   "source": [
    "#Example 1\n",
    "cal = ql.TARGET()\n",
    "mydate = ql.Date(1, ql.May, 2017)\n",
    "\n",
    "print('Is BD :', cal.isBusinessDay(mydate))\n",
    "print('Is Holiday :', cal.isHoliday(mydate))\n",
    "print('Is Weekend :', cal.isWeekend(ql.Friday))\n",
    "print('Is Last BD :', cal.isEndOfMonth(ql.Date(5, ql.April, 2018)))\n",
    "print('Last BD :', cal.endOfMonth(mydate))"
   ]
  },
  {
   "cell_type": "code",
   "execution_count": 8,
   "id": "d5722462",
   "metadata": {},
   "outputs": [
    {
     "name": "stdout",
     "output_type": "stream",
     "text": [
      "(Date(1,1,2018), Date(30,3,2018), Date(2,4,2018), Date(1,5,2018), Date(25,12,2018), Date(26,12,2018), Date(1,1,2019), Date(19,4,2019), Date(22,4,2019), Date(1,5,2019), Date(25,12,2019), Date(26,12,2019), Date(1,1,2020), Date(10,4,2020), Date(13,4,2020), Date(1,5,2020), Date(25,12,2020), Date(1,1,2021), Date(2,4,2021), Date(5,4,2021), Date(15,4,2022), Date(18,4,2022), Date(26,12,2022), Date(7,4,2023), Date(10,4,2023), Date(1,5,2023), Date(25,12,2023), Date(26,12,2023))\n"
     ]
    }
   ],
   "source": [
    "#Example 2\n",
    "myCalendar = ql.WeekendsOnly()\n",
    "days = [1,14,15,1,21,26,2,16,15,18,19,9,27,1,19,8,17,25,31]\n",
    "months = [1,4,4,5,5,6,8,9,9,10,10,11,12,12,12,12]\n",
    "name = ['Año Nuevo','Viernes Santo','Sabado Santo','Dia del Trabajo','Dia de las Glorias Navales','San Pedro y San Pablo','Elecciones Primarias','Dia de la Virgen del Carmen','Asuncion de la Virgen','Independencia Nacional','Glorias del Ejercito','Encuentro de dos mundos','Día de las Iglesias Evangélicas y Protestantes','Día de todos los Santos','Elecciones Presidenciales y Parlamentarias','Inmaculada Concepción','Segunda vuelta Presidenciales','Navidad','Feriado Bancario']\n",
    "start_year = 2018\n",
    "n_years = 10\n",
    "for i in range(n_years+1):\n",
    "    for x,y in zip(days,months):\n",
    "        date = ql.Date(x,y,start_year+i)\n",
    "        myCalendar.addHoliday(date)\n",
    "        \n",
    "holidaylist = ql.Calendar.holidayList(ql.TARGET(), ql.Date(1,1,2018), ql.Date(31,12,2023))\n",
    "print(holidaylist)"
   ]
  },
  {
   "cell_type": "markdown",
   "id": "861de20c",
   "metadata": {},
   "source": [
    "Now, I evaluate the Interest Rate class"
   ]
  },
  {
   "cell_type": "code",
   "execution_count": 13,
   "id": "bc5fb2e7",
   "metadata": {},
   "outputs": [
    {
     "name": "stdout",
     "output_type": "stream",
     "text": [
      "5.000000 % Actual/360 Annual compounding\n",
      "1.1025\n",
      "0.9070294784580498\n",
      "0.04888948540378024\n",
      "0.9523809523809523\n",
      "0.9523809523809518\n"
     ]
    }
   ],
   "source": [
    "#Example 1\n",
    "annualRate = 0.05\n",
    "dayCount = ql.Actual360()\n",
    "compoundType = ql.Compounded\n",
    "frequency = ql.Annual\n",
    "interestRate = ql.InterestRate(annualRate, dayCount, compoundType, frequency)\n",
    "\n",
    "print(interestRate)\n",
    "\n",
    "#The compoundFactor method will give how the investment will be worth after 't' years. If I invest 1 dollar:\n",
    "investment1 = interestRate.compoundFactor(2.0)\n",
    "print(investment1)\n",
    "\n",
    "#The discountFactor method returns the reciprocal of the compoundFactor method.\n",
    "discount1 = interestRate.discountFactor(2.0)\n",
    "print(discount1)\n",
    "\n",
    "#We can also do interest rate convertions using the equivalentRate method.\n",
    "newFrequency = ql.Monthly\n",
    "effectiveRate = interestRate.equivalentRate(compoundType, newFrequency, 1)\n",
    "print(effectiveRate.rate())\n",
    "#Here, I converted the original rate into a monthly compounding type. A 4.889% of monthly compounding is equivalent to a 5.0% of Anual compounding.\n",
    "\n",
    "#To check the above, one can evaluate the discount factors\n",
    "print(interestRate.discountFactor(1.0))\n",
    "print(effectiveRate.discountFactor(1.0))\n",
    "#This means that pricing bonds using either interest rate conversion should give the same net present value (barring some precision)\n"
   ]
  },
  {
   "cell_type": "markdown",
   "id": "0a39a720",
   "metadata": {},
   "source": [
    "**Now, we model a fixed rate bond in QuantLib**\n",
    "The bode is based on:\n",
    "http://gouthamanbalaraman.com/blog/quantlib-bond-modeling.html"
   ]
  },
  {
   "cell_type": "markdown",
   "id": "e1047f52",
   "metadata": {},
   "source": [
    "Let's consider a hypothetical bond with a par value of 100, that pays 6% coupon semi-annually issued on January 15th, 2015 and set to mature on January 15th, 2016. The bond will pay a coupon on July 15th, 2015 and January 15th, 2016. The par amount of 100 will also be paid on the January 15th, 2016.\n",
    "\n",
    "To make things simpler, lets assume that we know the spot rates of the treasury as of January 15th, 2015. The annualized spot rates are 0.5% for 6 months and 0.7% for 1 year point. Lets calculate the fair value of this bond."
   ]
  },
  {
   "cell_type": "code",
   "execution_count": 15,
   "id": "38e25f3a",
   "metadata": {},
   "outputs": [
    {
     "name": "stdout",
     "output_type": "stream",
     "text": [
      "105.27653992490681\n"
     ]
    }
   ],
   "source": [
    "fairval = 3/pow(1+0.005, 0.5) + (100 + 3)/(1+0.007)\n",
    "print(fairval)"
   ]
  },
  {
   "cell_type": "markdown",
   "id": "fb0a21be",
   "metadata": {},
   "source": [
    "Now, we perform the same task with QuantLib"
   ]
  },
  {
   "cell_type": "code",
   "execution_count": 17,
   "id": "42adac94",
   "metadata": {},
   "outputs": [
    {
     "name": "stdout",
     "output_type": "stream",
     "text": [
      "<QuantLib.QuantLib.YieldTermStructureHandle; proxy of <Swig Object of type 'Handle< YieldTermStructure > *' at 0x000001D60248DCC0> >\n"
     ]
    }
   ],
   "source": [
    "#Creating the term structure and relevant variables\n",
    "todaysDate = ql.Date(15, 1, 2015)\n",
    "ql.Settings.instance().evaluationDate = todaysDate\n",
    "spotDates = [ql.Date(15, 1, 2015), ql.Date(15, 7, 2015), ql.Date(15, 1, 2016)]\n",
    "spotRates = [0.0, 0.005, 0.007]\n",
    "dayCount = ql.Thirty360(ql.Thirty360.BondBasis)\n",
    "calendar = ql.UnitedStates(ql.UnitedStates.GovernmentBond)\n",
    "interpolation = ql.Linear()\n",
    "compounding = ql.Compounded\n",
    "compoundingFrequency = ql.Annual\n",
    "spotCurve = ql.ZeroCurve(spotDates, spotRates, dayCount, calendar, interpolation,\n",
    "                             compounding, compoundingFrequency)\n",
    "spotCurveHandle = ql.YieldTermStructureHandle(spotCurve)\n",
    "print(spotCurveHandle)"
   ]
  },
  {
   "cell_type": "code",
   "execution_count": 25,
   "id": "794e2306",
   "metadata": {},
   "outputs": [
    {
     "name": "stdout",
     "output_type": "stream",
     "text": [
      "105.27653992490683\n",
      "105.27653992490681\n"
     ]
    }
   ],
   "source": [
    "#Creating the fixed rate bond\n",
    "issueDate = ql.Date(15, 1, 2015)\n",
    "maturityDate = ql.Date(15, 1, 2016)\n",
    "tenor = ql.Period(ql.Semiannual)\n",
    "calendar = ql.UnitedStates(ql.UnitedStates.GovernmentBond)\n",
    "bussinessConvention = ql.Unadjusted\n",
    "dateGeneration = ql.DateGeneration.Backward\n",
    "monthEnd = False\n",
    "schedule = ql.Schedule (issueDate, maturityDate, tenor, calendar, bussinessConvention,\n",
    "                            bussinessConvention , dateGeneration, monthEnd)\n",
    "\n",
    "list(schedule)\n",
    "\n",
    "#Creating the coupon\n",
    "dayCount = ql.Thirty360(ql.Thirty360.BondBasis)\n",
    "couponRate = 0.06\n",
    "coupons = [couponRate]\n",
    "\n",
    "#Constructiny the FixedRateBond\n",
    "settlementDays = 0\n",
    "faceValue = 100\n",
    "fixedRateBond = ql.FixedRateBond(settlementDays, faceValue, schedule, coupons, dayCount)\n",
    "\n",
    "#Creating a BondEngine with the relevant term structure\n",
    "bondEngine = ql.DiscountingBondEngine(spotCurveHandle)\n",
    "\n",
    "#Setting the bond to use with this Bond Engine\n",
    "fixedRateBond.setPricingEngine(bondEngine)\n",
    "\n",
    "#Obtaining the value of the bond today\n",
    "value = fixedRateBond.NPV()\n",
    "print(value)\n",
    "\n",
    "print(fairval)"
   ]
  },
  {
   "cell_type": "markdown",
   "id": "03e2fb78",
   "metadata": {},
   "source": [
    "**Next, I perform a bootstrapping exercise for the yield curve using QuantLib**\n",
    "The code is based on:\n",
    "http://gouthamanbalaraman.com/blog/quantlib-term-structure-bootstrap-yield-curve.html"
   ]
  },
  {
   "cell_type": "code",
   "execution_count": 27,
   "id": "ccc21ea1",
   "metadata": {},
   "outputs": [],
   "source": [
    "def print_curve(xlist, ylist, precision=3):\n",
    "    \"\"\"\n",
    "    Method to print curve in a nice format\n",
    "    \"\"\"\n",
    "    print (\"----------------------\")\n",
    "    print (\"Maturities\\tCurve\")\n",
    "    print (\"----------------------\")\n",
    "    for x,y in zip(xlist, ylist):\n",
    "        print (x,\"\\t\\t\", round(y, precision))\n",
    "    print (\"----------------------\")"
   ]
  },
  {
   "cell_type": "markdown",
   "id": "82fdb8de",
   "metadata": {},
   "source": [
    "The deposit rates and fixed rate bond rates are provided below. This example is based on Exhibit 5-5 given in Frank Fabozzi's Bond Markets, Analysis and Strategies, Sixth Edition."
   ]
  },
  {
   "cell_type": "code",
   "execution_count": 28,
   "id": "9a046a3d",
   "metadata": {},
   "outputs": [
    {
     "name": "stdout",
     "output_type": "stream",
     "text": [
      "----------------------\n",
      "Maturities\tCurve\n",
      "----------------------\n",
      "6M \t\t 5.25\n",
      "12M \t\t 5.5\n",
      "18M \t\t 5.75\n",
      "24M \t\t 6.0\n",
      "30M \t\t 6.25\n",
      "36M \t\t 6.5\n",
      "42M \t\t 6.75\n",
      "48M \t\t 6.8\n",
      "54M \t\t 7.0\n",
      "60M \t\t 7.1\n",
      "66M \t\t 7.15\n",
      "72M \t\t 7.2\n",
      "78M \t\t 7.3\n",
      "84M \t\t 7.35\n",
      "90M \t\t 7.4\n",
      "96M \t\t 7.5\n",
      "102M \t\t 7.6\n",
      "108M \t\t 7.6\n",
      "114M \t\t 7.7\n",
      "120M \t\t 7.8\n",
      "----------------------\n"
     ]
    }
   ],
   "source": [
    "# Deposit rates\n",
    "depo_maturities = [ql.Period(6,ql.Months), ql.Period(12, ql.Months)]\n",
    "depo_rates = [5.25, 5.5]\n",
    "\n",
    "# Bond rates\n",
    "bond_maturities = [ql.Period(6*i, ql.Months) for i in range(3,21)]\n",
    "bond_rates = [5.75, 6.0, 6.25, 6.5, 6.75, 6.80, 7.00, 7.1, 7.15,\n",
    "              7.2, 7.3, 7.35, 7.4, 7.5, 7.6, 7.6, 7.7, 7.8]\n",
    "\n",
    "print_curve(depo_maturities+bond_maturities, depo_rates+bond_rates)"
   ]
  },
  {
   "cell_type": "code",
   "execution_count": 30,
   "id": "fdec4465",
   "metadata": {},
   "outputs": [],
   "source": [
    "#Defining constants and conventions for object creating. It is assumed that some constants are the same for deposits and bonds.\n",
    "calc_date = ql.Date(15, 1, 2015)\n",
    "ql.Settings.instance().evaluationDate = calc_date\n",
    "\n",
    "calendar = ql.UnitedStates(ql.UnitedStates.GovernmentBond)\n",
    "bussiness_convention = ql.Unadjusted\n",
    "day_count = ql.Thirty360(ql.Thirty360.BondBasis)\n",
    "end_of_month = True\n",
    "settlement_days = 0\n",
    "face_amount = 100\n",
    "coupon_frequency = ql.Period(ql.Semiannual)\n",
    "settlement_days = 0"
   ]
  },
  {
   "cell_type": "markdown",
   "id": "e6236d62",
   "metadata": {},
   "source": [
    "The basic idea of bootstrapping using QuantLib is to use the deposit rates and bond rates to create individual helpers. Then use the combination of the two helpers to construct the yield curve."
   ]
  },
  {
   "cell_type": "code",
   "execution_count": 34,
   "id": "978b520e",
   "metadata": {},
   "outputs": [
    {
     "name": "stdout",
     "output_type": "stream",
     "text": [
      "[<QuantLib.QuantLib.DepositRateHelper; proxy of <Swig Object of type 'ext::shared_ptr< DepositRateHelper > *' at 0x000001D60248F6F0> >, <QuantLib.QuantLib.DepositRateHelper; proxy of <Swig Object of type 'ext::shared_ptr< DepositRateHelper > *' at 0x000001D60248F5D0> >]\n"
     ]
    }
   ],
   "source": [
    "#Creating depo rate 'helpers' from depo rates\n",
    "depo_helpers = [ql.DepositRateHelper(ql.QuoteHandle(ql.SimpleQuote(r/100.0)),\n",
    "                                     m,\n",
    "                                     settlement_days,\n",
    "                                     calendar,\n",
    "                                     bussiness_convention,\n",
    "                                     end_of_month,\n",
    "                                     day_count )\n",
    "                for r, m in zip(depo_rates, depo_maturities)]\n",
    "print(depo_helpers)"
   ]
  },
  {
   "cell_type": "code",
   "execution_count": 36,
   "id": "30dcd818",
   "metadata": {},
   "outputs": [
    {
     "name": "stdout",
     "output_type": "stream",
     "text": [
      "[<QuantLib.QuantLib.FixedRateBondHelper; proxy of <Swig Object of type 'ext::shared_ptr< FixedRateBondHelper > *' at 0x000001D6025B0150> >, <QuantLib.QuantLib.FixedRateBondHelper; proxy of <Swig Object of type 'ext::shared_ptr< FixedRateBondHelper > *' at 0x000001D602175270> >, <QuantLib.QuantLib.FixedRateBondHelper; proxy of <Swig Object of type 'ext::shared_ptr< FixedRateBondHelper > *' at 0x000001D602175330> >, <QuantLib.QuantLib.FixedRateBondHelper; proxy of <Swig Object of type 'ext::shared_ptr< FixedRateBondHelper > *' at 0x000001D6025B04B0> >, <QuantLib.QuantLib.FixedRateBondHelper; proxy of <Swig Object of type 'ext::shared_ptr< FixedRateBondHelper > *' at 0x000001D602175060> >, <QuantLib.QuantLib.FixedRateBondHelper; proxy of <Swig Object of type 'ext::shared_ptr< FixedRateBondHelper > *' at 0x000001D602175240> >, <QuantLib.QuantLib.FixedRateBondHelper; proxy of <Swig Object of type 'ext::shared_ptr< FixedRateBondHelper > *' at 0x000001D60249A0C0> >, <QuantLib.QuantLib.FixedRateBondHelper; proxy of <Swig Object of type 'ext::shared_ptr< FixedRateBondHelper > *' at 0x000001D60249A030> >, <QuantLib.QuantLib.FixedRateBondHelper; proxy of <Swig Object of type 'ext::shared_ptr< FixedRateBondHelper > *' at 0x000001D60249AF30> >, <QuantLib.QuantLib.FixedRateBondHelper; proxy of <Swig Object of type 'ext::shared_ptr< FixedRateBondHelper > *' at 0x000001D67F45F840> >, <QuantLib.QuantLib.FixedRateBondHelper; proxy of <Swig Object of type 'ext::shared_ptr< FixedRateBondHelper > *' at 0x000001D60248F570> >, <QuantLib.QuantLib.FixedRateBondHelper; proxy of <Swig Object of type 'ext::shared_ptr< FixedRateBondHelper > *' at 0x000001D60248FD20> >, <QuantLib.QuantLib.FixedRateBondHelper; proxy of <Swig Object of type 'ext::shared_ptr< FixedRateBondHelper > *' at 0x000001D60248F5A0> >, <QuantLib.QuantLib.FixedRateBondHelper; proxy of <Swig Object of type 'ext::shared_ptr< FixedRateBondHelper > *' at 0x000001D60248FB40> >, <QuantLib.QuantLib.FixedRateBondHelper; proxy of <Swig Object of type 'ext::shared_ptr< FixedRateBondHelper > *' at 0x000001D60215FAE0> >, <QuantLib.QuantLib.FixedRateBondHelper; proxy of <Swig Object of type 'ext::shared_ptr< FixedRateBondHelper > *' at 0x000001D60215F240> >, <QuantLib.QuantLib.FixedRateBondHelper; proxy of <Swig Object of type 'ext::shared_ptr< FixedRateBondHelper > *' at 0x000001D6024A2DE0> >, <QuantLib.QuantLib.FixedRateBondHelper; proxy of <Swig Object of type 'ext::shared_ptr< FixedRateBondHelper > *' at 0x000001D6024A2A80> >]\n"
     ]
    }
   ],
   "source": [
    "#Creating fixed rate bond helpers from fixed rate bonds.\n",
    "#IMPORTANT: It is assumed that the YTM given for the bonds are all par rates (bonds with coupons = YTM)\n",
    "bond_helpers = []\n",
    "for r, m in zip(bond_rates, bond_maturities):\n",
    "    termination_date = calc_date + m\n",
    "    schedule = ql.Schedule(calc_date,\n",
    "                   termination_date,\n",
    "                   coupon_frequency,\n",
    "                   calendar,\n",
    "                   bussiness_convention,\n",
    "                   bussiness_convention,\n",
    "                   ql.DateGeneration.Backward,\n",
    "                   end_of_month)\n",
    "\n",
    "    helper = ql.FixedRateBondHelper(ql.QuoteHandle(ql.SimpleQuote(face_amount)),\n",
    "                                        settlement_days,\n",
    "                                        face_amount,\n",
    "                                        schedule,\n",
    "                                        [r/100.0],\n",
    "                                        day_count,\n",
    "                                        bussiness_convention,\n",
    "                                        )\n",
    "    bond_helpers.append(helper)\n",
    "\n",
    "print(bond_helpers)"
   ]
  },
  {
   "cell_type": "code",
   "execution_count": 38,
   "id": "f388088e",
   "metadata": {},
   "outputs": [
    {
     "name": "stdout",
     "output_type": "stream",
     "text": [
      "<QuantLib.QuantLib.PiecewiseLogCubicDiscount; proxy of <Swig Object of type 'ext::shared_ptr< PiecewiseLogCubicDiscount > *' at 0x000001D60215F600> >\n"
     ]
    }
   ],
   "source": [
    "#The yield curve is constructed putting both helpers together\n",
    "rate_helpers = depo_helpers + bond_helpers\n",
    "yieldcurve = ql.PiecewiseLogCubicDiscount(calc_date,\n",
    "                                          rate_helpers,\n",
    "                                         day_count)\n",
    "print(yieldcurve)"
   ]
  },
  {
   "cell_type": "code",
   "execution_count": 40,
   "id": "f24cab4d",
   "metadata": {},
   "outputs": [
    {
     "name": "stdout",
     "output_type": "stream",
     "text": [
      "----------------------\n",
      "Maturities\tCurve\n",
      "----------------------\n",
      "0.0 \t\t 0.0\n",
      "0.5 \t\t 5.25\n",
      "1.0 \t\t 5.426\n",
      "1.5 \t\t 5.761\n",
      "2.0 \t\t 6.02\n",
      "2.5 \t\t 6.283\n",
      "3.0 \t\t 6.55\n",
      "3.5 \t\t 6.822\n",
      "4.0 \t\t 6.87\n",
      "4.5 \t\t 7.095\n",
      "5.0 \t\t 7.205\n",
      "5.5 \t\t 7.257\n",
      "6.0 \t\t 7.31\n",
      "6.5 \t\t 7.429\n",
      "7.0 \t\t 7.485\n",
      "7.5 \t\t 7.543\n",
      "8.0 \t\t 7.671\n",
      "8.5 \t\t 7.802\n",
      "9.0 \t\t 7.791\n",
      "9.5 \t\t 7.929\n",
      "10.0 \t\t 8.072\n",
      "----------------------\n"
     ]
    }
   ],
   "source": [
    "#Getting the spot rates\n",
    "spots = []\n",
    "tenors = []\n",
    "for d in yieldcurve.dates():\n",
    "    yrs = day_count.yearFraction(calc_date, d)\n",
    "    compounding = ql.Compounded\n",
    "    freq = ql.Semiannual\n",
    "    zero_rate = yieldcurve.zeroRate(yrs, compounding, freq)\n",
    "    tenors.append(yrs)\n",
    "    eq_rate = zero_rate.equivalentRate(day_count,\n",
    "                                       compounding,\n",
    "                                       freq,\n",
    "                                       calc_date,\n",
    "                                       d).rate()\n",
    "    spots.append(100*eq_rate)\n",
    "    \n",
    "print_curve(tenors, spots)"
   ]
  }
 ],
 "metadata": {
  "kernelspec": {
   "display_name": "Python 3 (ipykernel)",
   "language": "python",
   "name": "python3"
  },
  "language_info": {
   "codemirror_mode": {
    "name": "ipython",
    "version": 3
   },
   "file_extension": ".py",
   "mimetype": "text/x-python",
   "name": "python",
   "nbconvert_exporter": "python",
   "pygments_lexer": "ipython3",
   "version": "3.9.7"
  }
 },
 "nbformat": 4,
 "nbformat_minor": 5
}
